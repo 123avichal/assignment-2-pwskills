{
 "cells": [
  {
   "cell_type": "code",
   "execution_count": null,
   "id": "ce401266-6cba-44e4-ae65-02eb6c3762bd",
   "metadata": {},
   "outputs": [],
   "source": [
    "Q 1 \n",
    "Ans python is  a functional programing language where we write comment in between a code we simply use ( # )command for example i need note in between the code i use # and write a note there\n",
    "generally there are 2 type of comment in python 1:single line comment eg,#'write a str' 2 multiline comment eg # print(i)\n",
    "                                                                                                               # print(f)\n",
    "                                                                                                               # print(y)\n",
    "                                                                                                            "
   ]
  },
  {
   "cell_type": "markdown",
   "id": "4a3278b6-7b04-4d00-85b1-a28c972947e0",
   "metadata": {},
   "source": [
    "#Q2\n",
    "#variable are nothing but storage where we store our data in a memory it can be start with aphabets, a name with uppercase ,lowercase etc but variable can not be use as a special char @,&,alpha numeric etc declare a variable and assign the value for example \n",
    "\n",
    "a = 7"
   ]
  },
  {
   "cell_type": "code",
   "execution_count": 3,
   "id": "29900e9b-2d69-43e3-8c86-e519de35e5e1",
   "metadata": {},
   "outputs": [
    {
     "data": {
      "text/plain": [
       "7"
      ]
     },
     "execution_count": 3,
     "metadata": {},
     "output_type": "execute_result"
    }
   ],
   "source": [
    "a"
   ]
  },
  {
   "cell_type": "code",
   "execution_count": 27,
   "id": "ec374ba0-f649-45a8-8757-a2a541fbf3f9",
   "metadata": {},
   "outputs": [],
   "source": [
    "# Q3 \n",
    "l = [1,2,3,45,'avichal',True,8+9j]"
   ]
  },
  {
   "cell_type": "code",
   "execution_count": 28,
   "id": "eef04ae9-1b1c-4eb7-8d08-685b497b9b68",
   "metadata": {},
   "outputs": [
    {
     "data": {
      "text/plain": [
       "list"
      ]
     },
     "execution_count": 28,
     "metadata": {},
     "output_type": "execute_result"
    }
   ],
   "source": [
    "type(l)"
   ]
  },
  {
   "cell_type": "code",
   "execution_count": 29,
   "id": "7440a0f2-5308-4d3b-a16f-9536fca30c73",
   "metadata": {},
   "outputs": [],
   "source": [
    "l =set(l)"
   ]
  },
  {
   "cell_type": "code",
   "execution_count": 30,
   "id": "4f0afc7d-4a96-4909-822d-81f59cc1b701",
   "metadata": {},
   "outputs": [
    {
     "data": {
      "text/plain": [
       "{(8+9j), 1, 2, 3, 45, 'avichal'}"
      ]
     },
     "execution_count": 30,
     "metadata": {},
     "output_type": "execute_result"
    }
   ],
   "source": [
    "l"
   ]
  },
  {
   "cell_type": "code",
   "execution_count": 31,
   "id": "3581f84a-13aa-40ff-a78d-9febed20e7c6",
   "metadata": {},
   "outputs": [
    {
     "data": {
      "text/plain": [
       "set"
      ]
     },
     "execution_count": 31,
     "metadata": {},
     "output_type": "execute_result"
    }
   ],
   "source": [
    "type(l)"
   ]
  },
  {
   "cell_type": "code",
   "execution_count": 32,
   "id": "f894bfdc-a835-4ea9-8e7d-09031b7b82b8",
   "metadata": {},
   "outputs": [],
   "source": [
    "# Q5\n",
    "l2 = [1,2,3,4,5]"
   ]
  },
  {
   "cell_type": "code",
   "execution_count": 34,
   "id": "bd2fafe9-a8ec-42be-9fbf-6cc161777f00",
   "metadata": {},
   "outputs": [
    {
     "data": {
      "text/plain": [
       "[2, 3]"
      ]
     },
     "execution_count": 34,
     "metadata": {},
     "output_type": "execute_result"
    }
   ],
   "source": [
    "l2[1:3]"
   ]
  },
  {
   "cell_type": "markdown",
   "id": "fb8049ff-9acb-404b-bbf1-257f5971bf06",
   "metadata": {},
   "source": [
    "Q6\n",
    "complex number is maths are the numbers which consists real and imagenary form ex a+ib where a and b are real number and i called imagenary we expressed in the form of 2+i3 while in the python complex number are expressed the form of a+bj for example 5+7j where 7 is image no and 5 is real no"
   ]
  },
  {
   "cell_type": "code",
   "execution_count": 35,
   "id": "9b7594d7-7c4f-44c3-9367-615158d2db8c",
   "metadata": {},
   "outputs": [],
   "source": [
    "#Q7\n",
    "age=25"
   ]
  },
  {
   "cell_type": "code",
   "execution_count": 36,
   "id": "4191b4cf-ed29-4f40-8437-3651e8e9132c",
   "metadata": {},
   "outputs": [
    {
     "data": {
      "text/plain": [
       "25"
      ]
     },
     "execution_count": 36,
     "metadata": {},
     "output_type": "execute_result"
    }
   ],
   "source": [
    "age"
   ]
  },
  {
   "cell_type": "code",
   "execution_count": 37,
   "id": "e620d596-2e3d-466e-aa63-dff63d88d2a6",
   "metadata": {},
   "outputs": [],
   "source": [
    "# Q8\n",
    "price=9.99"
   ]
  },
  {
   "cell_type": "code",
   "execution_count": 38,
   "id": "f0ca4640-532c-47ee-a421-e759ccb3ae91",
   "metadata": {},
   "outputs": [
    {
     "data": {
      "text/plain": [
       "9.99"
      ]
     },
     "execution_count": 38,
     "metadata": {},
     "output_type": "execute_result"
    }
   ],
   "source": [
    "price # it contain float data type"
   ]
  },
  {
   "cell_type": "code",
   "execution_count": 39,
   "id": "9a3c12ef-4b5c-4e9c-bde8-9a21b1625732",
   "metadata": {},
   "outputs": [],
   "source": [
    "#Q9\n",
    "name = 'avichal saxena'"
   ]
  },
  {
   "cell_type": "code",
   "execution_count": 41,
   "id": "f35a0557-03ba-4d8f-a155-57e376390adf",
   "metadata": {},
   "outputs": [
    {
     "name": "stdout",
     "output_type": "stream",
     "text": [
      "avichal saxena\n"
     ]
    }
   ],
   "source": [
    "print(name)"
   ]
  },
  {
   "cell_type": "code",
   "execution_count": 42,
   "id": "3aecf233-eaf0-47c0-8472-ee9020d9006f",
   "metadata": {},
   "outputs": [],
   "source": [
    "# Q10\n",
    "s = 'Hello World'"
   ]
  },
  {
   "cell_type": "code",
   "execution_count": 43,
   "id": "38443e51-8d81-47ca-bdd4-08f2488d028b",
   "metadata": {},
   "outputs": [
    {
     "data": {
      "text/plain": [
       "'World'"
      ]
     },
     "execution_count": 43,
     "metadata": {},
     "output_type": "execute_result"
    }
   ],
   "source": [
    "s[6:11]"
   ]
  },
  {
   "cell_type": "code",
   "execution_count": 47,
   "id": "9ed0ce3c-1c52-472a-a5a4-2466e6e023b6",
   "metadata": {},
   "outputs": [],
   "source": [
    "# Q11\n",
    "student_avichal = True"
   ]
  },
  {
   "cell_type": "code",
   "execution_count": 48,
   "id": "d3069d02-6c97-4245-aec9-7dbeaa5e95c2",
   "metadata": {},
   "outputs": [
    {
     "data": {
      "text/plain": [
       "True"
      ]
     },
     "execution_count": 48,
     "metadata": {},
     "output_type": "execute_result"
    }
   ],
   "source": [
    "avichal"
   ]
  },
  {
   "cell_type": "code",
   "execution_count": null,
   "id": "10583c35-569d-40a9-a9b5-98515569c2d5",
   "metadata": {},
   "outputs": [],
   "source": [
    "#Q4\n",
    "pythonfirst_script.py Hello World!"
   ]
  }
 ],
 "metadata": {
  "kernelspec": {
   "display_name": "Python 3 (ipykernel)",
   "language": "python",
   "name": "python3"
  },
  "language_info": {
   "codemirror_mode": {
    "name": "ipython",
    "version": 3
   },
   "file_extension": ".py",
   "mimetype": "text/x-python",
   "name": "python",
   "nbconvert_exporter": "python",
   "pygments_lexer": "ipython3",
   "version": "3.10.8"
  }
 },
 "nbformat": 4,
 "nbformat_minor": 5
}
